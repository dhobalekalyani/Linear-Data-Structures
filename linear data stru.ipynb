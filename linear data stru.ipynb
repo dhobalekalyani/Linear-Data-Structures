{
 "cells": [
  {
   "cell_type": "code",
   "execution_count": 6,
   "id": "23744f20",
   "metadata": {},
   "outputs": [
    {
     "name": "stdout",
     "output_type": "stream",
     "text": [
      "[(5, 4), (6, 3), (7, 2)]\n"
     ]
    }
   ],
   "source": [
    "#Q1. Write a program to find all pairs of an integer array whose sum is equal to a given number?\n",
    "\n",
    "def find_pairs(array,target):\n",
    "    pairs = []\n",
    "    seen = set()\n",
    "    for num in array:\n",
    "        complement = target - num\n",
    "        if complement in seen:\n",
    "            pairs.append((num,complement))\n",
    "        seen.add(num)\n",
    "    return pairs\n",
    "array = [1,2,3,4,5,6,7]\n",
    "target = 9\n",
    "result = find_pairs(array,target)\n",
    "print(result)"
   ]
  },
  {
   "cell_type": "code",
   "execution_count": 8,
   "id": "da9d7877",
   "metadata": {},
   "outputs": [
    {
     "name": "stdout",
     "output_type": "stream",
     "text": [
      "[6, 5, 4, 3, 2, 1]\n"
     ]
    }
   ],
   "source": [
    "#Q2. Write a program to reverse an array in place? In place means you cannot create a new array. You have to update \n",
    "#the original array.\n",
    "def reverse_array(array):\n",
    "    start = 0\n",
    "    end = len(array)-1\n",
    "    while start < end:\n",
    "        array[start],array[end] = array[end],array[start] \n",
    "        start += 1\n",
    "        end -= 1\n",
    "array =[1,2,3,4,5,6]\n",
    "reverse_array(array)\n",
    "print(array)"
   ]
  },
  {
   "cell_type": "code",
   "execution_count": 17,
   "id": "09a07ed4",
   "metadata": {},
   "outputs": [
    {
     "name": "stdout",
     "output_type": "stream",
     "text": [
      "True\n"
     ]
    }
   ],
   "source": [
    "#Q3. Write a program to check if two strings are a rotation of each other?\n",
    "def are_rotations(str1, str2):\n",
    "    if len(str1) != len(str2):\n",
    "        return False\n",
    "    temp = str1 + str2\n",
    "    if str2 in temp:\n",
    "        return True\n",
    "    return False\n",
    "\n",
    "s1 = \"abcd\"\n",
    "s2 = \"cdab\"\n",
    "result = are_rotations(s1, s2)\n",
    "print(result)\n"
   ]
  },
  {
   "cell_type": "code",
   "execution_count": 22,
   "id": "44185ebc",
   "metadata": {},
   "outputs": [
    {
     "name": "stdout",
     "output_type": "stream",
     "text": [
      "d\n"
     ]
    }
   ],
   "source": [
    "#Q4. Write a program to print the first non-repeated character from a string?\n",
    "\n",
    "def first_non_repeated_char(string):\n",
    "    char_count= {}\n",
    "    for char in string:\n",
    "        if char in char_count:\n",
    "            char_count[char]+= 1\n",
    "        else:\n",
    "            char_count[char] = 1\n",
    "    for char in string:\n",
    "        if char_count[char] == 1:\n",
    "            return char\n",
    "    return none\n",
    "s =\"aabbccdee\"\n",
    "result = first_non_repeated_char(s)\n",
    "print(result)\n",
    "            "
   ]
  },
  {
   "cell_type": "code",
   "execution_count": 30,
   "id": "6d75790d",
   "metadata": {},
   "outputs": [
    {
     "name": "stdout",
     "output_type": "stream",
     "text": [
      "Move disk 1 from A to C\n",
      "Move disk 2 from A to B\n",
      "Move disk 1 from C to B\n",
      "Move disk 3 from A to C\n",
      "Move disk 1 from B to A\n",
      "Move disk 2 from B to C\n",
      "Move disk 1 from A to C\n"
     ]
    }
   ],
   "source": [
    "#Q5. Read about the Tower of Hanoi algorithm. Write a program to implement it.\n",
    "def tower_of_hanoi(n, source, auxiliary, destination):\n",
    "    if n > 0:\n",
    "        tower_of_hanoi(n-1, source, destination, auxiliary)\n",
    "        print(f\"Move disk {n} from {source} to {destination}\")\n",
    "        tower_of_hanoi(n-1, auxiliary, source, destination)\n",
    "\n",
    "n = 3\n",
    "tower_of_hanoi(n, \"A\", \"B\", \"C\")\n"
   ]
  },
  {
   "cell_type": "code",
   "execution_count": 31,
   "id": "1675baf5",
   "metadata": {},
   "outputs": [
    {
     "name": "stdout",
     "output_type": "stream",
     "text": [
      "Prefix expression: -+A*BCD\n"
     ]
    }
   ],
   "source": [
    "#Q6. Read about infix, prefix, and postfix expressions. Write a program to convert postfix to prefix expression.\n",
    "\n",
    "def is_operator(char):\n",
    "    operators = ['+', '-', '*', '/', '^']\n",
    "    return char in operators\n",
    "\n",
    "\n",
    "def postfix_to_prefix(expression):\n",
    "    stack = []\n",
    "\n",
    "    for char in expression:\n",
    "        if is_operator(char):\n",
    "            operand1 = stack.pop()\n",
    "            operand2 = stack.pop()\n",
    "            stack.append(char + operand2 + operand1)\n",
    "        else:\n",
    "            stack.append(char)\n",
    "\n",
    "    return stack.pop()\n",
    "\n",
    "\n",
    "\n",
    "postfix_expression = \"ABC*+D-\"\n",
    "prefix_expression = postfix_to_prefix(postfix_expression)\n",
    "print(\"Prefix expression:\", prefix_expression)\n"
   ]
  },
  {
   "cell_type": "code",
   "execution_count": 32,
   "id": "bf75c72d",
   "metadata": {},
   "outputs": [
    {
     "name": "stdout",
     "output_type": "stream",
     "text": [
      "((A*B)+C)\n"
     ]
    }
   ],
   "source": [
    "#Q7. Write a program to convert prefix expression to infix expression.\n",
    "\n",
    "def prefix_to_infix(expression):\n",
    "    stack = []\n",
    "    for char in reversed(expression):\n",
    "        if char.isalpha():\n",
    "            stack.append(char)\n",
    "        else:\n",
    "            operand1 = stack.pop()\n",
    "            operand2 = stack.pop()\n",
    "            stack.append('('+operand1+char+operand2+ ')')\n",
    "    return stack.pop()\n",
    "prefix_expr = \"+*ABC\"\n",
    "infix_expr = prefix_to_infix(prefix_expr)\n",
    "print(infix_expr)\n",
    "        "
   ]
  },
  {
   "cell_type": "code",
   "execution_count": 1,
   "id": "e36d0938",
   "metadata": {},
   "outputs": [
    {
     "name": "stdout",
     "output_type": "stream",
     "text": [
      "Enter the code snippet: (){}[]\n",
      "All brackets are closed properly.\n"
     ]
    }
   ],
   "source": [
    "#Q8. Write a program to check if all the brackets are closed in a given code snippet.\n",
    "def check_brackets(code):\n",
    "    stack = []\n",
    "    opening_brackets = ['(', '[', '{']\n",
    "    closing_brackets = [')', ']', '}']\n",
    "    bracket_pairs = {'(': ')', '[': ']', '{': '}'}\n",
    "\n",
    "    for char in code:\n",
    "        if char in opening_brackets:\n",
    "            stack.append(char)\n",
    "        elif char in closing_brackets:\n",
    "            if not stack or bracket_pairs[stack.pop()] != char:\n",
    "                return False\n",
    "\n",
    "    return len(stack) == 0\n",
    "\n",
    "code_snippet = input(\"Enter the code snippet: \")\n",
    "if check_brackets(code_snippet):\n",
    "    print(\"All brackets are closed properly.\")\n",
    "else:\n",
    "    print(\"Not all brackets are closed properly.\")\n"
   ]
  },
  {
   "cell_type": "code",
   "execution_count": 17,
   "id": "9fdbd64c",
   "metadata": {},
   "outputs": [
    {
     "name": "stdout",
     "output_type": "stream",
     "text": [
      "Original Stack:\n",
      "5\n",
      "4\n",
      "3\n",
      "2\n",
      "1\n",
      "Reversed Stack:\n"
     ]
    }
   ],
   "source": [
    "#Q9. Write a program to reverse a stack.\n",
    "\n",
    "class Stack:\n",
    "    def __init__(self):\n",
    "        self.items = []\n",
    "\n",
    "    def push(self, item):\n",
    "        self.items.append(item)\n",
    "\n",
    "    def pop(self):\n",
    "        if not self.is_empty():\n",
    "            return self.items.pop()\n",
    "        return None\n",
    "\n",
    "    def peek(self):\n",
    "        if not self.is_empty():\n",
    "            return self.items[-1]\n",
    "        return None\n",
    "\n",
    "    def is_empty(self):\n",
    "        return len(self.items) == 0\n",
    "\n",
    "    def size(self):\n",
    "        return len(self.items)\n",
    "\n",
    "\n",
    "def reverse_stack(stack):\n",
    "    if not stack.is_empty():\n",
    "        item = stack.pop()\n",
    "        reverse_stack(stack)\n",
    "        insert_at_bottom(stack, item)\n",
    "\n",
    "\n",
    "def insert_at_bottom(stack, item):\n",
    "    if stack.is_empty():\n",
    "        stack.push(item)\n",
    "    else:\n",
    "        temp = stack.pop()\n",
    "        insert_at_bottom(stack, item)\n",
    "        stack.push(temp)\n",
    "\n",
    "\n",
    "\n",
    "stack = Stack()\n",
    "stack.push(1)\n",
    "stack.push(2)\n",
    "stack.push(3)\n",
    "stack.push(4)\n",
    "stack.push(5)\n",
    "\n",
    "print(\"Original Stack:\")\n",
    "while not stack.is_empty():\n",
    "    print(stack.pop())\n",
    "\n",
    "reverse_stack(stack)\n",
    "\n",
    "print(\"Reversed Stack:\")\n",
    "while not stack.is_empty():\n",
    "    print(stack.pop())\n"
   ]
  },
  {
   "cell_type": "code",
   "execution_count": 18,
   "id": "f476498d",
   "metadata": {},
   "outputs": [
    {
     "name": "stdout",
     "output_type": "stream",
     "text": [
      "Minimum element in the stack: 2\n"
     ]
    }
   ],
   "source": [
    "#Q10. Write a program to find the smallest number using a stack.\n",
    "\n",
    "class Stack:\n",
    "    def __init__(self):\n",
    "        self.items = []\n",
    "        self.min_stack = []\n",
    "\n",
    "    def push(self, item):\n",
    "        self.items.append(item)\n",
    "        if not self.min_stack or item <= self.min_stack[-1]:\n",
    "            self.min_stack.append(item)\n",
    "\n",
    "    def pop(self):\n",
    "        if not self.is_empty():\n",
    "            if self.items[-1] == self.min_stack[-1]:\n",
    "                self.min_stack.pop()\n",
    "            return self.items.pop()\n",
    "        return None\n",
    "\n",
    "    def peek(self):\n",
    "        if not self.is_empty():\n",
    "            return self.items[-1]\n",
    "        return None\n",
    "\n",
    "    def is_empty(self):\n",
    "        return len(self.items) == 0\n",
    "\n",
    "    def size(self):\n",
    "        return len(self.items)\n",
    "\n",
    "    def get_minimum(self):\n",
    "        if not self.min_stack:\n",
    "            return None\n",
    "        return self.min_stack[-1]\n",
    "\n",
    "\n",
    "# Example usage\n",
    "stack = Stack()\n",
    "stack.push(5)\n",
    "stack.push(3)\n",
    "stack.push(8)\n",
    "stack.push(2)\n",
    "stack.push(10)\n",
    "\n",
    "print(\"Minimum element in the stack:\", stack.get_minimum())\n"
   ]
  },
  {
   "cell_type": "code",
   "execution_count": null,
   "id": "23540afa",
   "metadata": {},
   "outputs": [],
   "source": []
  }
 ],
 "metadata": {
  "kernelspec": {
   "display_name": "Python 3 (ipykernel)",
   "language": "python",
   "name": "python3"
  },
  "language_info": {
   "codemirror_mode": {
    "name": "ipython",
    "version": 3
   },
   "file_extension": ".py",
   "mimetype": "text/x-python",
   "name": "python",
   "nbconvert_exporter": "python",
   "pygments_lexer": "ipython3",
   "version": "3.9.13"
  }
 },
 "nbformat": 4,
 "nbformat_minor": 5
}
